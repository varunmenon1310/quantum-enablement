{
 "cells": [
  {
   "cell_type": "code",
   "execution_count": 45,
   "metadata": {},
   "outputs": [
    {
     "name": "stdout",
     "output_type": "stream",
     "text": [
      "The autoreload extension is already loaded. To reload it, use:\n",
      "  %reload_ext autoreload\n"
     ]
    }
   ],
   "source": [
    "%load_ext autoreload\n",
    "%autoreload 2"
   ]
  },
  {
   "cell_type": "code",
   "execution_count": 46,
   "metadata": {},
   "outputs": [],
   "source": [
    "from pyscf import ao2mo, gto, mcscf, scf\n",
    "from qiskit.circuit import Parameter\n",
    "from qiskit import QuantumCircuit, QuantumRegister, transpile\n",
    "from qiskit_aer import AerSimulator\n",
    "from qiskit.synthesis import LieTrotter\n",
    "from qiskit.circuit.library import PauliEvolutionGate\n",
    "from qiskit.providers.fake_provider import Fake20QV1\n",
    "from qiskit_aer.primitives import EstimatorV2\n",
    "from sympy import Matrix"
   ]
  },
  {
   "cell_type": "markdown",
   "metadata": {},
   "source": [
    "## Krylov Quantum Diagonalization for Quantum Chemistry problems\n",
    "\n",
    "In this notebook we explore the validity of the modified Hadamard test circuit for the Krylov diagonalization algorithm for finding the ground-state energy of molecular Hamiltonians. We focus on the Lithium Hydride (LiH) molecule, a standard prototype for quantum chemistry problems. As we will see, the approach is sound in theory - however, the resulting circuit depths are extremely large with naive compilation, and more efficient case-by-case compilation of the Trotter evolution step will be required for implementation on near-term devices. Another concern is the conditioning of the Krylov subspace -- we find that the ground-state energy found is quite sensitive to the regularization of the Krylov subspace."
   ]
  },
  {
   "cell_type": "markdown",
   "metadata": {},
   "source": [
    "<b> Modified Hadamard test for Fermionic Hamiltonians under a Jordan-Wigner transformation."
   ]
  },
  {
   "cell_type": "markdown",
   "metadata": {},
   "source": [
    "For Chemistry Hamiltonians mapped to qubits under a Jordan-Wigner transformation, the Krylov algorithm can be applied with minimal modification to the resulting qubit Hamiltonian. The reason for this is that the Jordan-Wigner transformation maps a fermionic creation / annihilation operator $c^\\dagger$ / $c$ to a spin occupation creation / annihilation operator $S^+$, $S^-$. Therefore, we immediately know of an eigenstate of the qubit Hamiltonian, namely the fermionic vacuum, which under Jordan wigner is simply mapped to the $\\ket{0}^{\\otimes n}$ state. For other fermionic mappings such as Bravyi-Kitaev, the occupation information is delocalized in favour of localizing the parity information of the fermionic state under the fermion-qubit mapping. In this case, one can still work out what the resulting vacuum state of the qubit Hamiltonian will be, although it will not be as simple as $\\ket{0}^{\\otimes n}$ and may require complicated state preparation.\n",
    "\n",
    "Note that we can efficiently compute the energy of the $\\ket{0}^{\\otimes n}$ state under a Pauli decomposed Hamiltonian. We can then correct the phase of the Krylov matrices $H^{krylov}$ and $S^{krylov}$ by multiplying the expectation values from the modified Hadamard matrix by the factor $exp(-iE0 *dt* n)$ for each Krylov dimension $n$."
   ]
  },
  {
   "cell_type": "markdown",
   "metadata": {},
   "source": [
    "## LiH molecule Krylov ground-state energy search \n",
    "\n",
    "Initialize the LiH molecule with pyscf with (courtesy: Meltem Tolunay's ADAPT-VQE notebook)"
   ]
  },
  {
   "cell_type": "code",
   "execution_count": 47,
   "metadata": {},
   "outputs": [
    {
     "name": "stdout",
     "output_type": "stream",
     "text": [
      "Mean-field energy estimate:  -7.952130055344281\n"
     ]
    }
   ],
   "source": [
    "# LiH\n",
    "distance = 1.59\n",
    "mol = gto.Mole()\n",
    "mol.build(\n",
    "    verbose=0,\n",
    "    atom=[[\"Li\", (0, 0, 0)], [\"H\", (0, 0, distance)]],\n",
    "    basis=\"sto-6g\",\n",
    "    spin=0,\n",
    "    charge=0,\n",
    "    symmetry=\"Coov\",\n",
    ")\n",
    "\n",
    "\n",
    "rhf = scf.RHF(mol)\n",
    "e_gs = rhf.kernel()\n",
    "print('Mean-field energy estimate: ', e_gs)"
   ]
  },
  {
   "cell_type": "code",
   "execution_count": 48,
   "metadata": {},
   "outputs": [],
   "source": [
    "mf = scf.RHF(mol)\n",
    "E1 = mf.kernel()\n",
    "mx = mcscf.CASCI(mf, ncas=5, nelecas=(1, 1))\n",
    "cas_space_symmetry = {\"A1\": 3, \"E1x\": 1, \"E1y\": 1}\n",
    "mo = mcscf.sort_mo_by_irrep(mx, mf.mo_coeff, cas_space_symmetry)\n",
    "E2 = mx.kernel(mo)[:2]\n",
    "\n",
    "h1e, ecore = mx.get_h1eff()\n",
    "h2e = ao2mo.restore(1, mx.get_h2eff(), mx.ncas)"
   ]
  },
  {
   "cell_type": "markdown",
   "metadata": {},
   "source": [
    "<b> Map the Fermionic Hamiltonian to a Pauli decomposed qubit Hamiltonian"
   ]
  },
  {
   "cell_type": "code",
   "execution_count": 49,
   "metadata": {},
   "outputs": [],
   "source": [
    "import numpy as np\n",
    "from qiskit.quantum_info import SparsePauliOp\n",
    "\n",
    "\n",
    "def cholesky(V, eps):\n",
    "    no = V.shape[0]\n",
    "    chmax, ng = 20 * no, 0\n",
    "    W = V.reshape(no**2, no**2)\n",
    "    L = np.zeros((no**2, chmax))\n",
    "    Dmax = np.diagonal(W).copy()\n",
    "    nu_max = np.argmax(Dmax)\n",
    "    vmax = Dmax[nu_max]\n",
    "    while vmax > eps:\n",
    "        L[:, ng] = W[:, nu_max]\n",
    "        if ng > 0:\n",
    "            L[:, ng] -= np.dot(L[:, 0:ng], (L.T)[0:ng, nu_max])\n",
    "        L[:, ng] /= np.sqrt(vmax)\n",
    "        Dmax[: no**2] -= L[: no**2, ng] ** 2\n",
    "        ng += 1\n",
    "        nu_max = np.argmax(Dmax)\n",
    "        vmax = Dmax[nu_max]\n",
    "    L = L[:, :ng].reshape((no, no, ng))\n",
    "    print(\n",
    "        \"accuracy of Cholesky decomposition \",\n",
    "        np.abs(np.einsum(\"prg,qsg->prqs\", L, L) - V).max(),\n",
    "    )\n",
    "    return L, ng\n",
    "\n",
    "\n",
    "def identity(n):\n",
    "    return SparsePauliOp.from_list([(\"I\" * n, 1)])\n",
    "\n",
    "\n",
    "def creators_destructors(n, mapping=\"jordan_wigner\"):\n",
    "    c_list = []\n",
    "    if mapping == \"jordan_wigner\":\n",
    "        for p in range(n):\n",
    "            if p == 0:\n",
    "                l, r = \"I\" * (n - 1), \"\"\n",
    "            elif p == n - 1:\n",
    "                l, r = \"\", \"Z\" * (n - 1)\n",
    "            else:\n",
    "                l, r = \"I\" * (n - p - 1), \"Z\" * p\n",
    "            cp = SparsePauliOp.from_list([(l + \"X\" + r, 0.5), (l + \"Y\" + r, -0.5j)])\n",
    "            c_list.append(cp)\n",
    "    else:\n",
    "        raise ValueError(\"Unsupported mapping.\")\n",
    "    d_list = [cp.adjoint() for cp in c_list]\n",
    "    return c_list, d_list\n",
    "\n",
    "\n",
    "def build_hamiltonian(ecore: float, h1e: np.ndarray, h2e: np.ndarray) -> SparsePauliOp:\n",
    "    ncas, _ = h1e.shape\n",
    "\n",
    "    C, D = creators_destructors(2 * ncas, mapping=\"jordan_wigner\")\n",
    "    Exc = []\n",
    "    for p in range(ncas):\n",
    "        Excp = [C[p] @ D[p] + C[ncas + p] @ D[ncas + p]]\n",
    "        for r in range(p + 1, ncas):\n",
    "            Excp.append(\n",
    "                C[p] @ D[r] + C[ncas + p] @ D[ncas + r] + C[r] @ D[p] + C[ncas + r] @ D[ncas + p]\n",
    "            )\n",
    "        Exc.append(Excp)\n",
    "\n",
    "    # low-rank decomposition of the Hamiltonian\n",
    "    Lop, ng = cholesky(h2e, 1e-6)\n",
    "    t1e = h1e - 0.5 * np.einsum(\"pxxr->pr\", h2e)\n",
    "\n",
    "    H = ecore * identity(2 * ncas)\n",
    "    # one-body term\n",
    "    for p in range(ncas):\n",
    "        for r in range(p, ncas):\n",
    "            H += t1e[p, r] * Exc[p][r - p]\n",
    "    # two-body term\n",
    "    for g in range(ng):\n",
    "        Lg = 0 * identity(2 * ncas)\n",
    "        for p in range(ncas):\n",
    "            for r in range(p, ncas):\n",
    "                Lg += Lop[p, r, g] * Exc[p][r - p]\n",
    "        H += 0.5 * Lg @ Lg\n",
    "\n",
    "    return H.chop().simplify()"
   ]
  },
  {
   "cell_type": "code",
   "execution_count": 50,
   "metadata": {},
   "outputs": [
    {
     "name": "stdout",
     "output_type": "stream",
     "text": [
      "accuracy of Cholesky decomposition  1.1102230246251565e-16\n",
      "The Hamiltonian consists of 276 10-qubit Pauli operators.\n"
     ]
    }
   ],
   "source": [
    "H = build_hamiltonian(ecore, h1e, h2e)\n",
    "print(f\"The Hamiltonian consists of {len(H)} {2 * mx.ncas}-qubit Pauli operators.\")"
   ]
  },
  {
   "cell_type": "markdown",
   "metadata": {},
   "source": [
    "Check Hermiticity"
   ]
  },
  {
   "cell_type": "code",
   "execution_count": 51,
   "metadata": {},
   "outputs": [
    {
     "data": {
      "text/plain": [
       "True"
      ]
     },
     "execution_count": 51,
     "metadata": {},
     "output_type": "execute_result"
    }
   ],
   "source": [
    "np.isclose(H.to_matrix(), H.to_matrix().conj().T).all()"
   ]
  },
  {
   "cell_type": "markdown",
   "metadata": {},
   "source": [
    "<b> Compute the eigenvalue E0 of the all zero state. Compare to exact diagonalization to verify accuracy."
   ]
  },
  {
   "cell_type": "code",
   "execution_count": 52,
   "metadata": {},
   "outputs": [
    {
     "data": {
      "text/plain": [
       "(-6.887881382038017+0j)"
      ]
     },
     "execution_count": 52,
     "metadata": {},
     "output_type": "execute_result"
    }
   ],
   "source": [
    "#efficiently compute eigenvalue of H in |0> state\n",
    "\n",
    "E0 = 0\n",
    "for i,pauli in enumerate(H.paulis):\n",
    "    if 'X' in [*pauli.to_label()] or 'Y' in [*pauli.to_label()]:\n",
    "        continue\n",
    "    else:\n",
    "        E0 += H.coeffs[i]\n",
    "E0"
   ]
  },
  {
   "cell_type": "code",
   "execution_count": 53,
   "metadata": {},
   "outputs": [
    {
     "data": {
      "text/plain": [
       "array([-6.88788138+0.j,  0.        +0.j,  0.        +0.j, ...,\n",
       "        0.        +0.j,  0.        +0.j,  0.        +0.j])"
      ]
     },
     "execution_count": 53,
     "metadata": {},
     "output_type": "execute_result"
    }
   ],
   "source": [
    "zero_state = np.zeros(1024)\n",
    "zero_state[0] = 1\n",
    "H.to_matrix()@zero_state"
   ]
  },
  {
   "cell_type": "markdown",
   "metadata": {},
   "source": [
    "<b> We will use a Hartree Fock Ansatz as the initial state $\\ket{\\psi}_0$."
   ]
  },
  {
   "cell_type": "code",
   "execution_count": 54,
   "metadata": {},
   "outputs": [],
   "source": [
    "def hartree_fock_bitstring(num_spatial_orbitals: int, num_particles: tuple[int, int]) -> list[bool]:\n",
    "    \"\"\"Compute the bitstring representing the Hartree-Fock state for the specified system.\n",
    "    Args:\n",
    "        num_spatial_orbitals: The number of spatial orbitals, has a min. value of 1.\n",
    "        num_particles: The number of particles as a tuple storing the number of alpha- and beta-spin\n",
    "                       electrons in the first and second number, respectively.\n",
    "    Returns:\n",
    "        The bitstring representing the state of the Hartree-Fock state as array of bools.\n",
    "    Raises:\n",
    "        ValueError: If the total number of particles is larger than the number of orbitals.\n",
    "    \"\"\"\n",
    "    # validate the input\n",
    "    assert num_spatial_orbitals >= 1\n",
    "    num_alpha, num_beta = num_particles\n",
    "\n",
    "    if any(n > num_spatial_orbitals for n in num_particles):\n",
    "        raise ValueError(\"# of particles must be less than or equal to # of orbitals.\")\n",
    "\n",
    "    half_orbitals = num_spatial_orbitals\n",
    "    bitstr = np.zeros(2 * num_spatial_orbitals, bool)\n",
    "    bitstr[:num_alpha] = True\n",
    "    bitstr[half_orbitals : (half_orbitals + num_beta)] = True\n",
    "\n",
    "    return bitstr.tolist()"
   ]
  },
  {
   "cell_type": "markdown",
   "metadata": {},
   "source": [
    "<b> Initialize Krylov parameters</b>: We will choose the 'optimal' dt expected from theory: $dt = \\pi/||H||$"
   ]
  },
  {
   "cell_type": "code",
   "execution_count": 55,
   "metadata": {},
   "outputs": [
    {
     "data": {
      "text/plain": [
       "0.39406947078343263"
      ]
     },
     "execution_count": 55,
     "metadata": {},
     "output_type": "execute_result"
    }
   ],
   "source": [
    "#KRYLOV PARAMETERS\n",
    "subspace_dim = 100\n",
    "\n",
    "#Technically, this is cheating - this is the provably optimal choice for dt\n",
    "u,s,vh = np.linalg.svd(H.to_matrix())\n",
    "dt = np.pi/max(s)\n",
    "trotter_order = 2\n",
    "dt"
   ]
  },
  {
   "cell_type": "code",
   "execution_count": 56,
   "metadata": {},
   "outputs": [],
   "source": [
    "num_spatial_orbitals = mx.ncas\n",
    "num_particles = mx.nelecas\n",
    "\n",
    "H_first_row = np.zeros(subspace_dim, dtype=np.complex128)\n",
    "S_first_row = np.zeros(subspace_dim, dtype=np.complex128)\n",
    "\n",
    "n_qubits = 2 * mx.ncas\n",
    "backend = AerSimulator()"
   ]
  },
  {
   "cell_type": "markdown",
   "metadata": {},
   "source": [
    "<b> Create the modified Hadamard Krylov circuit in qiskit"
   ]
  },
  {
   "cell_type": "code",
   "execution_count": 57,
   "metadata": {},
   "outputs": [
    {
     "name": "stdout",
     "output_type": "stream",
     "text": [
      "The optimized circuit has 2Q gates depth:  3184\n"
     ]
    }
   ],
   "source": [
    "# Create hadamard test circuit for real part\n",
    "hf_bitstring = hartree_fock_bitstring(num_spatial_orbitals, num_particles)\n",
    "\n",
    "t = Parameter('t')\n",
    "qr_evol = QuantumRegister(n_qubits)\n",
    "qc_evol = QuantumCircuit(qr_evol)\n",
    "qc_evol.compose(PauliEvolutionGate(H, time=t, synthesis=LieTrotter(reps=trotter_order)), list(range(n_qubits)), inplace=True)\n",
    "\n",
    "qr = QuantumRegister(n_qubits+1)\n",
    "qc = QuantumCircuit(qr)\n",
    "qc.h(0)    \n",
    "for i, hf_bit in enumerate(hf_bitstring):\n",
    "    if hf_bit:\n",
    "        qc.cx(0, i+1)\n",
    "#qc.compose(controlled_state_prep, list(range(n_qubits+1)), inplace=True)\n",
    "qc.compose(qc_evol,list(range(1,n_qubits+1)), inplace=True)\n",
    "#qc.compose(controlled_state_prep_inv, list(range(n_qubits+1)), inplace=True)\n",
    "for i, hf_bit in enumerate(hf_bitstring):\n",
    "    if hf_bit:\n",
    "        qc.cx(0, i+1, ctrl_state='0')\n",
    "#krylov_circ = qc.decompose().copy()\n",
    "krylov_circ = transpile(qc, backend)\n",
    "print('The optimized circuit has 2Q gates depth: ', krylov_circ.depth(lambda x: x[0].num_qubits ==2))"
   ]
  },
  {
   "cell_type": "markdown",
   "metadata": {},
   "source": [
    "That is a lot of gates! This is an important problem that will be important to work around for fermionic simulation and quantum chemistry using various heuristics. Highly non-local qubit Hamiltonians can result from fermion-qubit mappings of electronic-structure Hamiltonians. The trotterized time-evolution for the Kyrlov subspace algorithm requires many swaps to compile to a local gate-set.\n",
    "A first step could be to try different fermion-qubit mappings. \n",
    "For this demo, we will use the Aer Simulator."
   ]
  },
  {
   "cell_type": "markdown",
   "metadata": {},
   "source": [
    "<b> Run estimator for real and imaginary parts of $H^{krylov}$ and $S^{krylov}$:"
   ]
  },
  {
   "cell_type": "code",
   "execution_count": 58,
   "metadata": {},
   "outputs": [],
   "source": [
    "estimator = EstimatorV2()\n",
    "shots = 10000000\n",
    "\n",
    "# Define a set of observables to measure\n",
    "observables_S_real = ['I'*(n_qubits) + 'X']#['X'+'I'*(n_qubits)]#['I'*(n_qubits) + 'X']\n",
    "observables_S_imag = ['I'*(n_qubits) + 'Y']#['Y'+'I'*(n_qubits)]#['I'*(n_qubits) + 'Y']\n",
    "observables_H_real = []\n",
    "observables_H_imag = []\n",
    "\n",
    "for pauli, coeff in zip(H.paulis, H.coeffs):\n",
    "    observable = pauli[::-1].to_label() \n",
    "    observables_H_real.append([observable+'X'])\n",
    "    observables_H_imag.append([observable+'Y'])\n",
    "    #observables_H_real.append(['X'+pauli.to_label()])\n",
    "    #observables_H_imag.append(['Y'+pauli.to_label()])\n",
    "\n",
    "# Define a sweep over parameter values\n",
    "parameters = []\n",
    "for idx_ket in range(subspace_dim):\n",
    "        parameters.append(dt*idx_ket)\n",
    "params = np.vstack(parameters).T\n",
    "\n",
    "pub = (krylov_circ, observables_S_real, params)\n",
    "job = estimator.run([pub], precision=1/np.sqrt(shots))\n",
    "S_real_results = job.result()[0]\n",
    "\n",
    "pub = (krylov_circ, observables_S_imag, params)\n",
    "job = estimator.run([pub], precision=1/np.sqrt(shots))\n",
    "S_imag_results = job.result()[0]\n",
    "\n",
    "pub = (krylov_circ, observables_H_real, params)\n",
    "job = estimator.run([pub], precision=1/np.sqrt(shots))\n",
    "H_real_results = job.result()[0]\n",
    "\n",
    "pub = (krylov_circ, observables_H_imag, params)\n",
    "job = estimator.run([pub], precision=1/np.sqrt(shots))\n",
    "H_imag_results = job.result()[0]"
   ]
  },
  {
   "cell_type": "code",
   "execution_count": 59,
   "metadata": {},
   "outputs": [],
   "source": [
    "S_first_row = np.zeros(subspace_dim, dtype=complex) \n",
    "for idx_ket in range(subspace_dim):\n",
    "        # Get expectation values from experiment\n",
    "        expval_real = S_real_results.data.evs[0][idx_ket]\n",
    "        expval_imag = S_imag_results.data.evs[0][idx_ket]\n",
    "\n",
    "        # Get expectation values\n",
    "        expval = (expval_real + 1j*expval_imag)*np.exp(1j*E0*dt*idx_ket)\n",
    "\n",
    "        # Fill-in matrix elements\n",
    "        S_first_row[idx_ket] = expval\n",
    "\n",
    "H_first_row = np.zeros(subspace_dim, dtype=complex)\n",
    "for idx_ket in range(subspace_dim):\n",
    "    for obs_idx, (pauli, coeff) in enumerate(zip(H.paulis, H.coeffs)):\n",
    "        # Get expectation values from experiment\n",
    "        expval_real = H_real_results.data.evs[obs_idx][idx_ket]\n",
    "        expval_imag = H_imag_results.data.evs[obs_idx][idx_ket]\n",
    "        \n",
    "\n",
    "        # # Get expectation values\n",
    "        expval = (expval_real + 1j*expval_imag)*np.exp(1j*E0*dt*idx_ket)\n",
    "\n",
    "\n",
    "        # Fill-in matrix elements\n",
    "        H_first_row[idx_ket] += coeff*expval"
   ]
  },
  {
   "cell_type": "markdown",
   "metadata": {},
   "source": [
    "<b> Solve the resulting generalized eigenvalue problem"
   ]
  },
  {
   "cell_type": "code",
   "execution_count": 60,
   "metadata": {},
   "outputs": [
    {
     "name": "stdout",
     "output_type": "stream",
     "text": [
      "[-6.9019159]\n",
      "[-7.01709882]\n",
      "[-6.90462859]\n",
      "[-7.2506824]\n",
      "[-8.67117546]\n",
      "[-10.12954471]\n",
      "[-9.97052418]\n",
      "[-9.57060551]\n",
      "[-9.8642946]\n",
      "[-9.71384989]\n"
     ]
    }
   ],
   "source": [
    "from scipy.linalg import toeplitz\n",
    "from krylov_trotter_circuits import  solve_regularized_gen_eig\n",
    "from copy import deepcopy\n",
    "H_krylov = toeplitz(H_first_row.conj())\n",
    "S_krylov = toeplitz(S_first_row.conj())\n",
    "thresholds = np.linspace(0.001, 0.01, 15)\n",
    "circuit_energies = []\n",
    "for ii, i in enumerate(range(1,subspace_dim)):\n",
    "    gs_energy = solve_regularized_gen_eig(H_krylov[:i,:i], S_krylov[:i,:i], k=1, threshold=0.03)\n",
    "    circuit_energies.append(gs_energy)\n",
    "    if ii%10 == 0:\n",
    "        print(gs_energy)"
   ]
  },
  {
   "cell_type": "code",
   "execution_count": 29,
   "metadata": {},
   "outputs": [
    {
     "name": "stdout",
     "output_type": "stream",
     "text": [
      "[-9.97616248]\n"
     ]
    }
   ],
   "source": [
    "print(circuit_energies[-1])"
   ]
  },
  {
   "cell_type": "markdown",
   "metadata": {},
   "source": [
    " Notice that the resulting Krylov subspace has lost variationality - the resulting ground-state energy is lower than the true energy. This is an indication that the regularization threshold is too low. Of course, this is impossible to know without knowing the true ground state energy beforehand (as we do here). Let us re-run the above cells with a higher threshold."
   ]
  },
  {
   "cell_type": "code",
   "execution_count": null,
   "metadata": {},
   "outputs": [],
   "source": [
    "from scipy.linalg import toeplitz\n",
    "from krylov_trotter_circuits import  solve_regularized_gen_eig\n",
    "from copy import deepcopy\n",
    "H_krylov = toeplitz(H_first_row.conj())\n",
    "S_krylov = toeplitz(S_first_row.conj())\n",
    "thresholds = np.linspace(0.001, 0.01, 15)\n",
    "circuit_energies = []\n",
    "for ii, i in enumerate(range(5,subspace_dim)):\n",
    "    gs_energy = solve_regularized_gen_eig(H_krylov[:i,:i], S_krylov[:i,:i], k=1, threshold=0.3)\n",
    "    circuit_energies.append(gs_energy)\n",
    "    if ii%10 == 0:\n",
    "        print(gs_energy)\n",
    "print(circuit_energies[-1])"
   ]
  },
  {
   "cell_type": "markdown",
   "metadata": {},
   "source": [
    "<b> Comparisons to exact state-vector simulations </b>\n",
    "\n",
    "In the following cells, we will run the Krylov diagonalization algorithms with state-vector methods and compare with the above circuit simulation. We first run the exact Krylov algorithm by using trotterized time evolution, and evaluating the Krylov subspace matrix elements directly. This gives us a point of comparison for when Trotter error is the only source of non-algorithmic error. "
   ]
  },
  {
   "cell_type": "code",
   "execution_count": 31,
   "metadata": {},
   "outputs": [
    {
     "name": "stdout",
     "output_type": "stream",
     "text": [
      "accuracy of Cholesky decomposition  1.1102230246251565e-16\n"
     ]
    }
   ],
   "source": [
    "H_op = build_hamiltonian(ecore, h1e, h2e)\n",
    "from qiskit.quantum_info import Operator\n",
    "import scipy as sp\n",
    "t = Parameter('t')\n",
    "qr_evol = QuantumRegister(n_qubits)\n",
    "qc_evol = QuantumCircuit(qr_evol)\n",
    "qc_evol.compose(PauliEvolutionGate(H_op, time=t, synthesis=LieTrotter(reps=trotter_order)), list(range(n_qubits)), inplace=True)\n",
    "trotter_op = Operator(qc_evol.assign_parameters({t: dt})).to_matrix()\n",
    "\n",
    "# Make it sparse and calculate true GS\n",
    "H_mat = H_op.to_matrix(sparse=True)\n",
    "true_gse, true_gs = sp.sparse.linalg.eigsh(H_mat, which='SA', k=1)\n",
    "true_gse = true_gse[0]\n",
    "\n",
    "d = subspace_dim # Krylov dimension\n",
    "\n",
    "num_spatial_orbitals = mx.ncas\n",
    "num_particles = mx.nelecas\n",
    "hartree_bitstring = hartree_fock_bitstring(num_spatial_orbitals, num_particles)"
   ]
  },
  {
   "cell_type": "code",
   "execution_count": 32,
   "metadata": {},
   "outputs": [
    {
     "name": "stdout",
     "output_type": "stream",
     "text": [
      "accuracy of Cholesky decomposition  1.1102230246251565e-16\n",
      "The estimated ground state energy is:  [-7.95359642]\n",
      "The estimated ground state energy is:  [-7.94717095]\n",
      "The estimated ground state energy is:  [-7.95786203]\n",
      "The estimated ground state energy is:  [-7.96979123]\n",
      "The estimated ground state energy is:  [-7.97163509]\n",
      "The estimated ground state energy is:  [-7.97143456]\n",
      "The estimated ground state energy is:  [-7.97168608]\n",
      "The estimated ground state energy is:  [-7.97147199]\n",
      "The estimated ground state energy is:  [-7.97183722]\n",
      "The estimated ground state energy is:  [-7.97178602]\n"
     ]
    }
   ],
   "source": [
    "#exact\n",
    "\n",
    "import numpy as np\n",
    "import scipy as sp\n",
    "from scipy.sparse import kron as spkron\n",
    "import networkx as nx\n",
    "import matplotlib.pyplot as plt\n",
    "from qiskit.quantum_info import SparsePauliOp\n",
    "\n",
    "def tensor(op_list):\n",
    "    op = op_list[0]\n",
    "    for i in range(1, len(op_list)):\n",
    "        op = spkron(op, op_list[i], format='csr')\n",
    "    return op\n",
    "\n",
    "H_op = build_hamiltonian(ecore, h1e, h2e)\n",
    "\n",
    "zero, one = np.array([1,0]), np.array([0,1])\n",
    "X,Y,Z,I= np.array([[0,1],[1,0]]), np.array([[0,-1j],[1j,0]]), np.array([[1,0],[0,-1]]), np.eye(2)\n",
    "H = np.sqrt(1/2)*np.array([[1,1],[1,-1]])\n",
    "\n",
    "# Make it sparse and calculate true GS\n",
    "H_mat = H_op.to_matrix(sparse=True)\n",
    "true_gse, true_gs = sp.sparse.linalg.eigsh(H_mat, which='SA', k=1)\n",
    "true_gse = true_gse[0]\n",
    "\n",
    "num_spatial_orbitals = mx.ncas\n",
    "num_particles = mx.nelecas\n",
    "hartree_bitstring = hartree_fock_bitstring(num_spatial_orbitals, num_particles)\n",
    "zero, one = np.array([1,0]), np.array([0,1])\n",
    "v0 = tensor([one if hartree_bitstring[i] else zero for i in range(len(hartree_bitstring))])\n",
    "v0 = v0.T\n",
    "# Construct Krylov vectors\n",
    "v = [v0.toarray()]\n",
    "for i in range(d-1):\n",
    "    #ui = sp.sparse.linalg.expm_multiply(-1j*H_mat*dt, v[i])\n",
    "    ui = trotter_op@v[i]\n",
    "    ui = ui/np.linalg.norm(ui)\n",
    "    v.append(ui)\n",
    "\n",
    "v = np.array(v).T\n",
    "\n",
    "# Construct Krylov matrices\n",
    "H_kry = np.conj(v[0]).T @ H_mat @ v[0]\n",
    "S_kry = np.conj(v[0]).T @ v[0]\n",
    "\n",
    "\n",
    "gnd_en_kry_est_list = []\n",
    "for d in range(1, d+1):\n",
    "    # Solve generalized eigenvalue problem\n",
    "    gnd_en_kry_est = solve_regularized_gen_eig(H_kry[:d, :d], S_kry[:d, :d], threshold=0.003)\n",
    "    gnd_en_kry_est_list.append(gnd_en_kry_est)\n",
    "    if d % 10 == 0:\n",
    "        print('The estimated ground state energy is: ', gnd_en_kry_est)"
   ]
  },
  {
   "cell_type": "markdown",
   "metadata": {},
   "source": [
    "Notice that the ideal algorithm works quite well, and converges close to the true ground state energy quickly with the Krylov subspace dimension."
   ]
  },
  {
   "cell_type": "markdown",
   "metadata": {},
   "source": [
    "<b> Statevector modified Hadamard test: </b> Next, we compare to state-vector simulation of the modified Hadamard test circuit. This gives us a point of comparison to when there is commutation error from the Trotter evolution, but no shot noise."
   ]
  },
  {
   "cell_type": "code",
   "execution_count": 33,
   "metadata": {},
   "outputs": [
    {
     "name": "stdout",
     "output_type": "stream",
     "text": [
      "accuracy of Cholesky decomposition  1.1102230246251565e-16\n",
      "done\n",
      "0\n",
      "20\n",
      "40\n",
      "60\n",
      "80\n",
      "100\n",
      "120\n",
      "140\n",
      "160\n",
      "180\n",
      "200\n",
      "220\n",
      "240\n",
      "260\n"
     ]
    }
   ],
   "source": [
    "#exact\n",
    "\n",
    "import numpy as np\n",
    "import scipy as sp\n",
    "from scipy.sparse import kron as spkron\n",
    "from scipy.sparse.linalg import matrix_power\n",
    "import networkx as nx\n",
    "import matplotlib.pyplot as plt\n",
    "from qiskit.quantum_info import SparsePauliOp\n",
    "\n",
    "def tensor(op_list):\n",
    "    op = op_list[0]\n",
    "    for i in range(1, len(op_list)):\n",
    "        op = spkron(op, op_list[i], format='csr')\n",
    "    return op\n",
    "\n",
    "H_op = build_hamiltonian(ecore, h1e, h2e)\n",
    "\n",
    "zero, one = np.array([1,0]), np.array([0,1])\n",
    "X,Y,Z,I= np.array([[0,1],[1,0]]), np.array([[0,-1j],[1j,0]]), np.array([[1,0],[0,-1]]), np.eye(2)\n",
    "op_dict = {'X':X, 'Y':Y, 'Z':Z, 'I':I}\n",
    "\n",
    "Hadmarad = np.sqrt(1/2)*np.array([[1,1],[1,-1]])\n",
    "\n",
    "all_zero = tensor([zero for _ in range(11)])\n",
    "all_zero = tensor([Hadmarad]+[I for _ in range(10)])@all_zero.T\n",
    "control_prep = tensor([np.outer(zero, zero)]+[I for _ in range(10)]) + tensor([np.outer(one, one)]+[X if hartree_bitstring[i] else I for i in range(10)]) \n",
    "control_prep_inv = tensor([np.outer(one, one)]+[I for _ in range(10)]) + tensor([np.outer(zero, zero)]+[X if hartree_bitstring[i] else I for i in range(10)]) \n",
    "\n",
    "\n",
    "pauli_list_S_real = [tensor([X]+[I for _ in range(10)])]\n",
    "pauli_list_S_imag = [tensor([Y]+[I for _ in range(10)])]\n",
    "pauli_list_H_real = [tensor([X]+[op_dict[H_op.to_list()[i][0][j]] for j in range(10)]) for i in range(len(H_op.to_list()))]\n",
    "pauli_list_H_imag = [tensor([Y]+[op_dict[H_op.to_list()[i][0][j]] for j in range(10)]) for i in range(len(H_op.to_list()))]\n",
    "\n",
    "H_real = np.zeros(d, dtype=np.complex128)\n",
    "H_imag = np.zeros(d, dtype=np.complex128)\n",
    "S_real = np.zeros(d, dtype=np.complex128)\n",
    "S_imag = np.zeros(d, dtype=np.complex128)\n",
    "for i, p in enumerate(pauli_list_S_real):\n",
    "    for n in range(d):\n",
    "        v0 = control_prep@all_zero\n",
    "        v0 = tensor([I, matrix_power(trotter_op, n)])@v0\n",
    "        v0 = control_prep_inv@v0\n",
    "        S_real[n]+= np.real((v0.conj().T@p@v0).toarray()[0][0])*np.exp(1j*E0*n*dt)\n",
    "for i, p in enumerate(pauli_list_S_imag):\n",
    "    for n in range(d):\n",
    "        v0 = control_prep@all_zero\n",
    "        v0 = tensor([I, matrix_power(trotter_op, n)])@v0\n",
    "        v0 = control_prep_inv@v0\n",
    "        S_imag[n] += np.real((v0.conj().T@p@v0).toarray()[0][0])*np.exp(1j*E0*n*dt)\n",
    "print('done')\n",
    "for i in range(len(pauli_list_H_real)):\n",
    "    if i%20 == 0:\n",
    "        print(i)\n",
    "    for n in range(d):\n",
    "        v0 = control_prep@all_zero\n",
    "        v0 = tensor([I, matrix_power(trotter_op, n)])@v0\n",
    "        v0 = control_prep_inv@v0\n",
    "        H_real[n] += H_op.to_list()[i][1]*np.real((v0.conj().T@pauli_list_H_real[i]@v0).toarray()[0][0])*np.exp(1j*E0*n*dt)\n",
    "        H_imag[n] += H_op.to_list()[i][1]*np.real((v0.conj().T@pauli_list_H_imag[i]@v0).toarray()[0][0])*np.exp(1j*E0*n*dt)\n",
    "\n"
   ]
  },
  {
   "cell_type": "code",
   "execution_count": 42,
   "metadata": {},
   "outputs": [
    {
     "name": "stdout",
     "output_type": "stream",
     "text": [
      "[-6.89686954]\n",
      "[-7.86979782]\n",
      "[-7.98582633]\n",
      "[-7.91084362]\n",
      "[-7.92378549]\n",
      "[-7.91712444]\n",
      "[-7.9116178]\n",
      "[-7.91975255]\n",
      "[-7.90484937]\n"
     ]
    }
   ],
   "source": [
    "H_krylov_row1 = (H_real+1j*H_imag)\n",
    "S_krylov_row1 = (S_real+1j*S_imag)\n",
    "H_krylov = toeplitz(H_krylov_row1.conj())\n",
    "S_krylov = toeplitz(S_krylov_row1.conj())\n",
    "\n",
    "state_vector_gs_Es = []\n",
    "for i in range(1,d):\n",
    "    H_krylov = toeplitz(H_krylov_row1.conj())[:i,:i]\n",
    "    S_krylov = toeplitz(S_krylov_row1.conj())[:i,:i]\n",
    "    E = solve_regularized_gen_eig(H_krylov, S_krylov, threshold=0.3)\n",
    "    if i%10 == 0:\n",
    "        print(E)\n",
    "    state_vector_gs_Es.append(E)"
   ]
  },
  {
   "cell_type": "markdown",
   "metadata": {},
   "source": [
    "<b> Final comparison and conclusions"
   ]
  },
  {
   "cell_type": "code",
   "execution_count": 65,
   "metadata": {},
   "outputs": [
    {
     "data": {
      "image/png": "[encoded data removed]",
      "text/plain": [
       "<Figure size 640x480 with 1 Axes>"
      ]
     },
     "metadata": {},
     "output_type": "display_data"
    }
   ],
   "source": [
    "import matplotlib.pyplot as plt\n",
    "\n",
    "plt.figure()\n",
    "plt.plot(np.arange(1,subspace_dim), circuit_energies, 'r.-', label='circuit')\n",
    "plt.plot(np.arange(1,subspace_dim), gnd_en_kry_est_list[1:], 'g.-', label='exact Trotter only')\n",
    "plt.plot(np.arange(1,subspace_dim), state_vector_gs_Es, 'b.-', label='exact modified Hadamard')\n",
    "plt.legend()\n",
    "plt.show()"
   ]
  },
  {
   "cell_type": "markdown",
   "metadata": {},
   "source": [
    "We suspect there is likely an issue with the qiskit estimator after extensive debugging. It is clear that the algorithm converges from the statevector simulations."
   ]
  },
  {
   "cell_type": "markdown",
   "metadata": {},
   "source": []
  }
 ],
 "metadata": {
  "kernelspec": {
   "display_name": "research2",
   "language": "python",
   "name": "python3"
  },
  "language_info": {
   "codemirror_mode": {
    "name": "ipython",
    "version": 3
   },
   "file_extension": ".py",
   "mimetype": "text/x-python",
   "name": "python",
   "nbconvert_exporter": "python",
   "pygments_lexer": "ipython3",
   "version": "3.11.9"
  }
 },
 "nbformat": 4,
 "nbformat_minor": 2
}
