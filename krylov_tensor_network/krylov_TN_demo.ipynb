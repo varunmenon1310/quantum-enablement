{
 "cells": [
  {
   "cell_type": "code",
   "execution_count": 132,
   "metadata": {},
   "outputs": [
    {
     "name": "stdout",
     "output_type": "stream",
     "text": [
      "The autoreload extension is already loaded. To reload it, use:\n",
      "  %reload_ext autoreload\n"
     ]
    }
   ],
   "source": [
    "%load_ext autoreload\n",
    "%autoreload 2"
   ]
  },
  {
   "cell_type": "code",
   "execution_count": 133,
   "metadata": {},
   "outputs": [],
   "source": [
    "import sys\n",
    "sys.path.insert(0, '..')\n",
    "from lattice_afi import lattice_2d\n",
    "from krylov_trotter_circuits import HeavyHexHeisenbergKrylovTNSim\n",
    "import numpy as np\n",
    "from scipy.sparse import kron as spkron\n",
    "from scipy.sparse.linalg import expm as sp_expm\n",
    "from scipy.linalg import toeplitz\n",
    "from krylov_ED.ED_Kylov_trotter import solve_regularized_gen_eig"
   ]
  },
  {
   "cell_type": "markdown",
   "metadata": {},
   "source": [
    "## Small system example"
   ]
  },
  {
   "cell_type": "code",
   "execution_count": 134,
   "metadata": {},
   "outputs": [
    {
     "data": {
      "image/png": "[encoded data removed]",
      "text/plain": [
       "<Figure size 300x320 with 1 Axes>"
      ]
     },
     "metadata": {},
     "output_type": "display_data"
    }
   ],
   "source": [
    "mps_order = np.arange(12)\n",
    "lat = lattice_2d(nx=1,ny=1, mps_order=mps_order) \n",
    "lat.draw(show_gates=True, show_mps_order=True, enumerate_qubits=True)"
   ]
  },
  {
   "cell_type": "code",
   "execution_count": 135,
   "metadata": {},
   "outputs": [],
   "source": [
    "dt = 0.1\n",
    "trotter_order = 2\n",
    "krylov_dim = 5\n",
    "\n",
    "J = 1.0\n",
    "g = 1.0\n",
    "\n",
    "particle_inds = [0,2,4]"
   ]
  },
  {
   "cell_type": "code",
   "execution_count": 136,
   "metadata": {},
   "outputs": [],
   "source": [
    "circ = HeavyHexHeisenbergKrylovTNSim(lat.nx, lat.ny, chi_max=64, J=J, g=g, mps_order=mps_order) #change lat.nx and lat.ny appropriately. chi_max is maximum bond dimension\n",
    "circ.initialize_state(flip_inds=particle_inds) #lattice site indices to populate with a particle\n",
    "S_tn = circ.krylov_S(krylov_dim=krylov_dim, dt=dt, trotter_order=trotter_order) #defaults\n",
    "H_tn = circ.krylov_H(krylov_dim=krylov_dim, dt=dt, trotter_order=trotter_order)"
   ]
  },
  {
   "cell_type": "code",
   "execution_count": 137,
   "metadata": {},
   "outputs": [],
   "source": [
    "assert np.isclose(H_tn,H_tn.conj().T).all() and np.isclose(S_tn,S_tn.conj().T).all() #check Hermiticity"
   ]
  },
  {
   "cell_type": "code",
   "execution_count": 138,
   "metadata": {},
   "outputs": [
    {
     "name": "stdout",
     "output_type": "stream",
     "text": [
      "[-5.67702848]\n"
     ]
    }
   ],
   "source": [
    "evals_tn = solve_regularized_gen_eig(H_tn, S_tn, threshold=1e-8)\n",
    "print(evals_tn)"
   ]
  },
  {
   "cell_type": "markdown",
   "metadata": {},
   "source": [
    "## Benchmark against Exact Diagonalization"
   ]
  },
  {
   "cell_type": "code",
   "execution_count": 139,
   "metadata": {},
   "outputs": [],
   "source": [
    "#Initialize state\n",
    "\n",
    "zero, one = np.array([1,0]), np.array([0,1])\n",
    "X,Y,Z,I= np.array([[0,1],[1,0]]), np.array([[0,-1j],[1j,0]]), np.array([[1,0],[0,-1]]), np.eye(2)\n",
    "H = np.sqrt(1/2)*np.array([[1,1],[1,-1]])\n",
    "\n",
    "def tensor(op_list):\n",
    "    op = op_list[0]\n",
    "    for i in range(1, len(op_list)):\n",
    "        op = spkron(op, op_list[i], format='csr')\n",
    "    return op\n",
    "\n",
    "edges = [(k[0]+1, k[1]+1) for (k,v) in lat.couplings.items() if k[0] < k[1]]\n",
    "l1_edges = [(k[0]+1, k[1]+1) for (k,v) in lat.couplings.items() if k[0] < k[1] and v==1]\n",
    "l2_edges = [(k[0]+1, k[1]+1) for (k,v) in lat.couplings.items() if k[0] < k[1] and v==2]\n",
    "l3_edges = [(k[0]+1, k[1]+1) for (k,v) in lat.couplings.items() if k[0] < k[1] and v==3]\n",
    "colored_edges = [l1_edges, l2_edges, l3_edges]\n",
    "\n",
    "particle_inds_ED = np.array(particle_inds) + 1\n",
    "psi = tensor([zero for _ in range(lat.n_qubits + 1)])\n",
    "psi = psi.T"
   ]
  },
  {
   "cell_type": "code",
   "execution_count": 140,
   "metadata": {},
   "outputs": [],
   "source": [
    "#State prep\n",
    "\n",
    "H_gate = tensor([H]+[I for _ in range(lat.n_qubits)])\n",
    "psi = H_gate@psi\n",
    "state_prep_gates = tensor([np.outer(zero,zero)]+[I for i in range(1,lat.n_qubits+1)]) + \\\n",
    "      tensor([np.outer(one,one)]+[I if i != particle_inds_ED[0] else X for i in range(1,lat.n_qubits+1)])\n",
    "for n in range(1,len(particle_inds_ED)):\n",
    "    state_prep_gates = (tensor([np.outer(zero,zero)]+[I for i in range(1,lat.n_qubits+1)]) + \\\n",
    "      tensor([np.outer(one,one)]+[I if i != particle_inds_ED[n] else X for i in range(1,lat.n_qubits+1)]))@state_prep_gates\n",
    "psi = state_prep_gates@psi"
   ]
  },
  {
   "cell_type": "code",
   "execution_count": 141,
   "metadata": {},
   "outputs": [
    {
     "name": "stderr",
     "output_type": "stream",
     "text": [
      "/opt/anaconda3/envs/research2/lib/python3.11/site-packages/scipy/sparse/linalg/_dsolve/linsolve.py:603: SparseEfficiencyWarning: splu converted its input to CSC format\n",
      "  return splu(A).solve\n",
      "/opt/anaconda3/envs/research2/lib/python3.11/site-packages/scipy/sparse/linalg/_matfuncs.py:707: SparseEfficiencyWarning: spsolve is more efficient when sparse b is in the CSC matrix format\n",
      "  return spsolve(Q, P)\n"
     ]
    }
   ],
   "source": [
    "#Build Trotter gates\n",
    "\n",
    "trotter_gates = []\n",
    "for l in range(3):\n",
    "    layer_gates = []\n",
    "    for e in colored_edges[l]:\n",
    "        XX = tensor([I]+[X if i in e else I for i in range(1, lat.n_qubits+1)])\n",
    "        YY = tensor([I]+[Y if i in e else I for i in range(1, lat.n_qubits+1)])\n",
    "        ZZ = tensor([I]+[Z if i in e else I for i in range(1, lat.n_qubits+1)])\n",
    "        layer_gates.append(sp_expm(-1j*(dt/trotter_order)*ZZ)@sp_expm(-1j*(dt/trotter_order)*YY)@sp_expm(-1j*(dt/trotter_order)*XX))\n",
    "    trotter_gates.append(layer_gates)"
   ]
  },
  {
   "cell_type": "code",
   "execution_count": 142,
   "metadata": {},
   "outputs": [],
   "source": [
    "#Trotterized time-evolution\n",
    "\n",
    "pre_measure_states = [psi.copy()]\n",
    "for d in range(krylov_dim-1):\n",
    "    for n in range(trotter_order):\n",
    "        for l in range(3):\n",
    "            for i in range(len(colored_edges[l])):\n",
    "                psi = trotter_gates[l][i]@psi\n",
    "    pre_measure_states.append(psi.copy())"
   ]
  },
  {
   "cell_type": "code",
   "execution_count": 143,
   "metadata": {},
   "outputs": [],
   "source": [
    "#opposite control state prep circuit\n",
    "\n",
    "inverse_state_prep_gates = tensor([np.outer(one,one)]+[I for i in range(1,lat.n_qubits+1)]) + \\\n",
    "      tensor([np.outer(zero,zero)]+[I if i != particle_inds_ED[0] else X for i in range(1,lat.n_qubits+1)])\n",
    "for n in range(1,len(particle_inds_ED)):\n",
    "    inverse_state_prep_gates = (tensor([np.outer(one,one)]+[I for i in range(1,lat.n_qubits+1)]) + \\\n",
    "      tensor([np.outer(zero,zero)]+[I if i != particle_inds_ED[n] else X for i in range(1,lat.n_qubits+1)]))@inverse_state_prep_gates\n",
    "for d in range(krylov_dim):\n",
    "      pre_measure_states[d] = inverse_state_prep_gates@pre_measure_states[d]"
   ]
  },
  {
   "cell_type": "code",
   "execution_count": 144,
   "metadata": {},
   "outputs": [],
   "source": [
    "#Hamiltonian Pauli terms\n",
    "\n",
    "X_terms, Y_terms, Z_terms = [],[],[]\n",
    "all_coeffs = []\n",
    "for pair in edges:\n",
    "    X_terms.append([I if i not in pair else X for i in range(1, lat.n_qubits+1)])\n",
    "    Y_terms.append([I if i not in pair else Y for i in range(1, lat.n_qubits+1)])\n",
    "    Z_terms.append([I if i not in pair else Z for i in range(1, lat.n_qubits+1)])\n",
    "    all_coeffs.append(J)\n",
    "    all_coeffs.append(J)\n",
    "    all_coeffs.append(g)\n",
    "all_terms = X_terms + Y_terms + Z_terms"
   ]
  },
  {
   "cell_type": "code",
   "execution_count": 145,
   "metadata": {},
   "outputs": [],
   "source": [
    "#Hamiltonian Pauli terms\n",
    "\n",
    "op_H_real = []\n",
    "op_H_imag = []\n",
    "for op_list in all_terms:\n",
    "    op_H_imag.append(tensor([Y]+op_list))\n",
    "    op_H_real.append(tensor([X]+op_list))\n",
    "op_S_real = tensor([X]+[I for _ in range(lat.n_qubits)])\n",
    "op_S_imag = tensor([Y]+[I for _ in range(lat.n_qubits)])"
   ]
  },
  {
   "cell_type": "code",
   "execution_count": 146,
   "metadata": {},
   "outputs": [],
   "source": [
    "#Build Toeplitz Krylov Matrices\n",
    "\n",
    "H_krylov_row1 = np.zeros(krylov_dim, dtype=np.complex128)\n",
    "S_krylov_row1 = np.zeros(krylov_dim, dtype=np.complex128)\n",
    "for d in range(krylov_dim):\n",
    "    for i in range(len(all_terms)):\n",
    "        H_krylov_row1[d] += (pre_measure_states[d].conj().T@op_H_real[i]@pre_measure_states[d] \\\n",
    "            + 1j* pre_measure_states[d].conj().T@op_H_imag[i]@pre_measure_states[d]).toarray()[0,0]*all_coeffs[i]\n",
    "    S_krylov_row1[d] = (pre_measure_states[d].conj().T@op_S_real@pre_measure_states[d] \\\n",
    "        + 1j* pre_measure_states[d].conj().T@op_S_imag@pre_measure_states[d]).toarray()[0,0]\n",
    "    \n",
    "H_ed = toeplitz(H_krylov_row1.conj())\n",
    "S_ed = toeplitz(S_krylov_row1.conj())\n"
   ]
  },
  {
   "cell_type": "code",
   "execution_count": 148,
   "metadata": {},
   "outputs": [],
   "source": [
    "evals_ed = solve_regularized_gen_eig(H_ed, S_ed, threshold=1e-8)\n",
    "evals_tn = solve_regularized_gen_eig(H_tn, S_tn, threshold=1e-8)"
   ]
  },
  {
   "cell_type": "code",
   "execution_count": 149,
   "metadata": {},
   "outputs": [
    {
     "name": "stdout",
     "output_type": "stream",
     "text": [
      "[-5.67702848] [-5.67702848]\n"
     ]
    }
   ],
   "source": [
    "print(evals_ed, evals_tn)"
   ]
  },
  {
   "cell_type": "code",
   "execution_count": 150,
   "metadata": {},
   "outputs": [
    {
     "data": {
      "text/plain": [
       "array([[ True,  True,  True,  True,  True],\n",
       "       [ True,  True,  True,  True,  True],\n",
       "       [ True,  True,  True,  True,  True],\n",
       "       [ True,  True,  True,  True,  True],\n",
       "       [ True,  True,  True,  True,  True]])"
      ]
     },
     "execution_count": 150,
     "metadata": {},
     "output_type": "execute_result"
    }
   ],
   "source": [
    "np.isclose(S_ed, S_tn)"
   ]
  },
  {
   "cell_type": "code",
   "execution_count": 151,
   "metadata": {},
   "outputs": [
    {
     "data": {
      "text/plain": [
       "array([[ True,  True,  True,  True,  True],\n",
       "       [ True,  True,  True,  True,  True],\n",
       "       [ True,  True,  True,  True,  True],\n",
       "       [ True,  True,  True,  True,  True],\n",
       "       [ True,  True,  True,  True,  True]])"
      ]
     },
     "execution_count": 151,
     "metadata": {},
     "output_type": "execute_result"
    }
   ],
   "source": [
    "np.isclose(H_ed, H_tn)"
   ]
  }
 ],
 "metadata": {
  "kernelspec": {
   "display_name": "research2",
   "language": "python",
   "name": "python3"
  },
  "language_info": {
   "codemirror_mode": {
    "name": "ipython",
    "version": 3
   },
   "file_extension": ".py",
   "mimetype": "text/x-python",
   "name": "python",
   "nbconvert_exporter": "python",
   "pygments_lexer": "ipython3",
   "version": "3.11.9"
  }
 },
 "nbformat": 4,
 "nbformat_minor": 2
}
